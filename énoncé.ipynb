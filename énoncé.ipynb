{
 "metadata": {
  "language_info": {
   "codemirror_mode": {
    "name": "ipython",
    "version": 3
   },
   "file_extension": ".py",
   "mimetype": "text/x-python",
   "name": "python",
   "nbconvert_exporter": "python",
   "pygments_lexer": "ipython3",
   "version": "3.9.0-final"
  },
  "orig_nbformat": 2,
  "kernelspec": {
   "name": "python3",
   "display_name": "Python 3",
   "language": "python"
  }
 },
 "nbformat": 4,
 "nbformat_minor": 2,
 "cells": [
  {
   "source": [
    "# Projet numérique : câble sous-marin (énoncé 2020)"
   ],
   "cell_type": "markdown",
   "metadata": {}
  },
  {
   "source": [],
   "cell_type": "markdown",
   "metadata": {}
  },
  {
   "source": [
    "## Énoncé du problème\n",
    "\n",
    "<br>\n",
    "\n",
    "L'objectif de ce projet est d'estimer la longueur de câble sous-marin nécessaire pour relier deux côtes $A$ et $B$ en utilisant des simulations conditionnelles.\n",
    "\n",
    "Le câble reposera sur le fond marin dont la profondeur est inconnue. Le segment $[AB]$ est discrétisé par une séquence de (N+1) points. On pose $x_0=A$ et pour $i=1,\\dots,N$, $$x_i=x_0+i\\Delta$$ où $$\\Delta = \\frac{AB}{N}$$ de telle sorte que $x_N=B$. On note $z(x)$ la profondeur du fond marin au point $x$ de telle sorte qu'on pourra estimer la longueur totale de câble nécessaire par la somme des longueurs sur les segments de la discrétisation :\n",
    "\n",
    "$$l=\\sum_{i=1}^N\\sqrt{\\Delta^2+(z(x_i)-z(x_{i-1}))^2}.$$\n",
    "\n",
    "Enfin, notons que l'on dispose d'un ensemble de $n$ observations de la profondeur que l'on supposera situées sur des points de discrétisation $z(x_{j_1}),\\dots,z(x_{j_n})$.\n",
    "\n",
    "On adopte un modèle probabiliste pour la profondeur. On suppose que le vecteur des profondeurs sur les points de discrétisation $\\mathbf{z}=(z(x_0),\\dots,z(x_N))$ est la réalisation d'un vecteur aléatoire gaussien $\\mathbf{Z}=(Z(x_0),\\dots,Z(x_N))$ dont le vecteur d'espérance ne contient qu'une seule valeur $\\mu$ répétée $N+1$ fois et dont la matrice de covariance $\\Sigma$ a pour termes $\\sigma_{ij}$ définis par $\\sigma_{ij}=C(|x_i-x_j|)$ où $C$ est une fonction décroissante, traduisant le fait que deux points géographiquement proches ont tendance à avoir des profondeurs plus similaires que deux points éloignés.\n",
    "\n",
    "On supposera que la matrice de covariance ainsi générée est définie-positive (en fait, $C$ sera choisie parmi les fonctions qui, appliquées aux termes d'une matrice de distance, produisent des matrices définie-positives).\n",
    "\n",
    "Si on note $L$ la variable aléatoire donnant la longueur de câble nécessaire :\n",
    "$$\n",
    "L=\\sum_{i=1}^N\\sqrt{\\Delta^2+(Z(x_i)-Z(x_{i-1}))^2},\n",
    "$$\n",
    "un bon estimateur de $L$ est fourni par l'espérance conditionnelle\n",
    "\n",
    "$$\n",
    "L^\\star=E \\Big[ L|Z(x_{j_1})=z(x_{j_1}),\\dots,Z(x_{j_n})=z(x_{j_n}) \\Big].\n",
    "$$\n",
    "\n",
    "<br><br>\n",
    "\n",
    "Cependant, cette quantité est difficilement accessible par le calcul. On va donc avoir recours à des simulations conditionnelles. C'est-à-dire que l'on va simuler un nombre $K$ de réalités (disons des réalisations du modèle probabiliste choisi), et sur chacune d'entre elle, la quantité de câble nécessaire sera évaluée. On disposera ainsi d'un échantillon $l_{(1)},\\dots,l_{(K)}$ de longueures simulées. Puis on approchera l'espérance conditionnelle par $$L^\\star=\\sum_{k=1}^K l_{(k)}.$$\n",
    "\n",
    "L'objectif de ce projet est donc d'écrire un code permettant d'effectuer cette simulation conditionnelle, puis de l'appliquer au jeu de données fourni et d'en déduire une estimation de la longueur de câble nécessaire."
   ],
   "cell_type": "markdown",
   "metadata": {}
  },
  {
   "source": [
    "<br><br>"
   ],
   "cell_type": "markdown",
   "metadata": {}
  },
  {
   "source": [
    "## Questions théoriques\n",
    "\n",
    "<br>\n",
    "\n",
    "1. Quel théorème du cours nous autorise à estimer l'espérance conditionnelle par la moyenne empirique de simulations conditionnelles ?\n",
    "\n",
    "2. Rappeler la loi conditionnelle du vecteur des composantes de $\\mathbf{Z}$ correspondant aux points de discrétisation sans observation, connaissant les valeurs prises par les composantes aux sites d'observation.\n",
    "\n",
    "3. Si $\\mathbf{Y}=(Y_1,\\dots,Y_p)$ est un vecteur de composantes gaussiennes indépendantes, toutes d'espérance nulle et de variance 1, quelle est la loi du vecteur $\\mathbf{Z}=m+R\\mathbf{Y}$ où $R$ est une matrice $p\\times p$ et $m$ est un vecteur de taille $p$ ?\n",
    "\n",
    "4. En déduire un algorithme de simulation conditionnelle."
   ],
   "cell_type": "markdown",
   "metadata": {}
  },
  {
   "source": [
    "<br><br>"
   ],
   "cell_type": "markdown",
   "metadata": {}
  },
  {
   "source": [
    "## Données du problème\n",
    "\n",
    "<br>\n",
    "\n",
    "Conventionnellement, $A$ est l'origine, $B=500$, $N=100$.\n",
    "\n",
    "<br><br>\n",
    "Les données :\n",
    "\n",
    "<center>\n",
    "\n",
    "| $i$ | $z(x_i)$ |\n",
    "| :---: | :---: |\n",
    "| $0$ | $0$ |\n",
    "| $20$ | $-4$ |\n",
    "| $40$ | $-12.8$ |\n",
    "| $60$ | $-1$ |\n",
    "| $80$ | $-6.5$ |\n",
    "| $100$ | $0$ |\n",
    "\n",
    "</center>\n",
    "\n",
    "<br><br>\n",
    "\n",
    "L'espérance de chaque composante du vecteur aléatoire $\\mathbf{Z}$ est donnée par $\\mu=-5.$\n",
    "\n",
    "La fonction $C$ est définie par $$C(h)=\\sigma^2 e^{-|h|/a},$$\n",
    "\n",
    "où $|h|$ correspond à la distance entre deux points, $a=50$ et $\\sigma^2=12$."
   ],
   "cell_type": "markdown",
   "metadata": {}
  },
  {
   "source": [
    "<br><br>"
   ],
   "cell_type": "markdown",
   "metadata": {}
  },
  {
   "source": [
    "## Implémentation"
   ],
   "cell_type": "markdown",
   "metadata": {}
  },
  {
   "source": [
    "### Préambule"
   ],
   "cell_type": "markdown",
   "metadata": {}
  },
  {
   "cell_type": "code",
   "execution_count": null,
   "metadata": {},
   "outputs": [],
   "source": [
    "# Chargement de dépendances\n",
    "import numpy as np\n",
    "import matplotlib.pyplot as plt"
   ]
  },
  {
   "cell_type": "code",
   "execution_count": null,
   "metadata": {},
   "outputs": [],
   "source": [
    "# Discrétisation\n",
    "A = 0\n",
    "B = 500\n",
    "N = 101  # Nombre de points de discrétisation\n",
    "Delta = (B - A) / (N - 1)\n",
    "discretization_indexes = np.arange(N)\n",
    "discretization = discretization_indexes * Delta\n",
    "\n",
    "# Paramètres du modèle\n",
    "mu = -5\n",
    "a = 50\n",
    "sigma2 = 12\n",
    "\n",
    "# Données\n",
    "observation_indexes = [0, 20, 40, 60, 80, 100]\n",
    "depth = np.array([0, -4, -12.8, -1, -6.5, 0])\n",
    "\n",
    "# Indices des composantes correspondant aux observations et aux componsantes non observées\n",
    "unknown_indexes = list(set(discretization_indexes) - set(observation_indexes))"
   ]
  },
  {
   "source": [
    "### Questions\n",
    "\n",
    "<br>\n",
    "\n",
    "1. Écrire une fonction qui prend en argument la distance entre les points, le paramètre $a$, et le paramètre $\\sigma^2$, et qui retourne la covariance entre deux points. On pourra fournir une matrice de distance à cette fonction. Dans ce cas, la fonction renverra la matrice de covariance.\n",
    "\n",
    "2. Calculer la matrice de distance.\n",
    "\n",
    "3. Calculer la matrice de covariance du vecteur $\\mathbf{Z}=(Z(x_0),\\dots,Z(x_N))$.\n",
    "\n",
    "4. Extraire les 3 matrices de covariance suivantes :\n",
    "\n",
    "* entre les observations\n",
    "\n",
    "* entre les observations et les inconnues\n",
    "\n",
    "* entre les inconnues\n",
    "\n",
    "5. Calculer l'espérance conditionnelle des composantes non observées connaissant les observations et la représenter avec les données.\n",
    "\n",
    "6. Calculer la matrice de variance conditionnelle et tracer sa diagonale (variance conditionnelle) en fonction de la position. Commenter.\n",
    "\n",
    "7. Effectuer une simulation conditionnelle. Sur un même graphique, tracer la simulation ainsi que les données et l'espérance conditionnelle. Commenter.\n",
    "\n",
    "8. Ecrire une fonction qui calcule la longueur du câble en fonction du vecteur des profondeurs et du pas de discrétisation.\n",
    "\n",
    "9. Utiliser cette fonction pour calculer la longueur du câble à partir de 100 simulations. Comparer l'espérance conditionnelle (estimée) de la longueur avec la longueur de l'espérance conditionnelle.\n",
    "\n",
    "10. Représenter la suite $M_n$ des moyennes des longueurs de câbles en fonction du nombre de simulations. Commenter.\n",
    "\n",
    "11. Représenter l'histogramme des longueurs de câbles générées.\n",
    "\n",
    "12. Donner un intervalle de confiance à 95% de la longueur du câble par 2 méthodes différentes. Commenter.\n",
    "\n",
    "13. Donner une estimation de la probabilité que la longueur du câble dépasse 525m.\n",
    "\n",
    "14. Reprendre les questions précédentes avec 1000, 10000 puis 100000 simulations. Commenter.\n",
    "\n"
   ],
   "cell_type": "markdown",
   "metadata": {}
  },
  {
   "cell_type": "code",
   "execution_count": null,
   "metadata": {},
   "outputs": [],
   "source": []
  }
 ]
}