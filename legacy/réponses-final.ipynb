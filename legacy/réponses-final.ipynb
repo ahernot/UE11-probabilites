{
 "cells": [
  {
   "cell_type": "markdown",
   "metadata": {},
   "source": [
    "# Projet de mathématiques (UE11.2) – Probabilités\n",
    "### dd month yyyy\n",
    "<br>LEBŒUF Antoine<br>HERNOT Anatole"
   ]
  },
  {
   "cell_type": "markdown",
   "metadata": {},
   "source": [
    "<br><br>"
   ]
  },
  {
   "source": [
    "## 1. Questions théoriques"
   ],
   "cell_type": "markdown",
   "metadata": {}
  },
  {
   "source": [
    "### Question 1.1\n",
    "\n",
    "Quel théorème du cours nous autorise à estimer l'espérance conditionnelle par la moyenne empirique de simulations conditionnelles ?"
   ],
   "cell_type": "markdown",
   "metadata": {}
  },
  {
   "source": [
    "réponse"
   ],
   "cell_type": "markdown",
   "metadata": {}
  },
  {
   "source": [
    "<br><br>"
   ],
   "cell_type": "markdown",
   "metadata": {}
  },
  {
   "source": [
    "### Question 1.2\n",
    "Rappeler la loi conditionnelle du vecteur des composantes de $\\mathbf{Z}$ correspondant aux points de discrétisation sans observation, connaissant les valeurs prises par les composantes aux sites d'observation."
   ],
   "cell_type": "markdown",
   "metadata": {}
  },
  {
   "source": [
    "réponse"
   ],
   "cell_type": "markdown",
   "metadata": {}
  },
  {
   "source": [
    "<br><br>"
   ],
   "cell_type": "markdown",
   "metadata": {}
  },
  {
   "source": [
    "### Question 1.3\n",
    "\n",
    "Si $\\mathbf{Y}=(Y_1,\\dots,Y_p)$ est un vecteur de composantes gaussiennes indépendantes, toutes d'espérance nulle et de variance 1, quelle est la loi du vecteur $\\mathbf{Z}=m+R\\mathbf{Y}$ où $R$ est une matrice $p\\times p$ et $m$ est un vecteur de taille $p$ ?"
   ],
   "cell_type": "markdown",
   "metadata": {}
  },
  {
   "source": [
    "réponse"
   ],
   "cell_type": "markdown",
   "metadata": {}
  },
  {
   "source": [
    "<br><br>"
   ],
   "cell_type": "markdown",
   "metadata": {}
  },
  {
   "source": [
    "### Question 1.4\n",
    "\n",
    "En déduire un algorithme de simulation conditionnelle."
   ],
   "cell_type": "markdown",
   "metadata": {}
  },
  {
   "source": [
    "réponse"
   ],
   "cell_type": "markdown",
   "metadata": {}
  },
  {
   "source": [
    "<br><br>"
   ],
   "cell_type": "markdown",
   "metadata": {}
  },
  {
   "cell_type": "markdown",
   "metadata": {
    "tags": []
   },
   "source": [
    "## 2. Implémentation"
   ]
  },
  {
   "cell_type": "code",
   "execution_count": null,
   "metadata": {},
   "outputs": [],
   "source": [
    "# Chargement de dépendances\n",
    "import numpy as np\n",
    "import matplotlib.pyplot as plt"
   ]
  },
  {
   "cell_type": "code",
   "execution_count": null,
   "metadata": {},
   "outputs": [],
   "source": [
    "# Discrétisation\n",
    "A = 0\n",
    "B = 500\n",
    "N = 101  # Nombre de points de discrétisation\n",
    "Delta = (B - A) / (N - 1)\n",
    "discretization_indexes = np.arange(N)\n",
    "discretization = discretization_indexes * Delta\n",
    "\n",
    "# Paramètres du modèle\n",
    "mu = -5\n",
    "a = 50\n",
    "sigma2 = 12\n",
    "\n",
    "# Données\n",
    "observation_indexes = [0, 20, 40, 60, 80, 100]\n",
    "depth = np.array([0, -4, -12.8, -1, -6.5, 0])\n",
    "\n",
    "# Indices des composantes correspondant aux observations et aux componsantes non observées\n",
    "unknown_indexes = list(set(discretization_indexes) - set(observation_indexes))"
   ]
  },
  {
   "source": [
    "### Question 2.1\n",
    "\n",
    "Écrire une fonction qui prend en argument la distance entre les points, le paramètre $a$, et le paramètre $\\sigma^2$, et qui retourne la covariance entre deux points. On pourra fournir une matrice de distance à cette fonction. Dans ce cas, la fonction renverra la matrice de covariance."
   ],
   "cell_type": "markdown",
   "metadata": {}
  },
  {
   "source": [
    "#### 2.1.1 Théorie\n",
    "\n",
    "réponse théorique"
   ],
   "cell_type": "markdown",
   "metadata": {}
  },
  {
   "source": [
    "#### 2.1.2 Implémentation"
   ],
   "cell_type": "markdown",
   "metadata": {}
  },
  {
   "cell_type": "code",
   "execution_count": null,
   "metadata": {},
   "outputs": [],
   "source": [
    "# code"
   ]
  },
  {
   "source": [
    "<br><br>"
   ],
   "cell_type": "markdown",
   "metadata": {}
  },
  {
   "source": [
    "### Question 2.2\n",
    "\n",
    "Calculer la matrice de distance."
   ],
   "cell_type": "markdown",
   "metadata": {}
  },
  {
   "source": [
    "réponse"
   ],
   "cell_type": "markdown",
   "metadata": {}
  },
  {
   "source": [
    "<br><br>"
   ],
   "cell_type": "markdown",
   "metadata": {}
  }
 ],
 "metadata": {
  "kernelspec": {
   "name": "python3",
   "display_name": "Python 3.9.0 64-bit",
   "metadata": {
    "interpreter": {
     "hash": "397704579725e15f5c7cb49fe5f0341eb7531c82d19f2c29d197e8b64ab5776b"
    }
   }
  },
  "language_info": {
   "codemirror_mode": {
    "name": "ipython",
    "version": 3
   },
   "file_extension": ".py",
   "mimetype": "text/x-python",
   "name": "python",
   "nbconvert_exporter": "python",
   "pygments_lexer": "ipython3",
   "version": "3.9.0-final"
  }
 },
 "nbformat": 4,
 "nbformat_minor": 2
}